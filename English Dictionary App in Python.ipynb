{
 "cells": [
  {
   "cell_type": "code",
   "execution_count": null,
   "id": "5bb80e9d",
   "metadata": {
    "scrolled": true
   },
   "outputs": [],
   "source": [
    "d={}\n",
    "while 1:\n",
    "    \n",
    "    import json\n",
    "    print('*****ENGLISH DICTIONARY APP*****')\n",
    "    print('''Main Menu\n",
    "      1.Add a new word\n",
    "      2.Find the meaning\n",
    "      3.Update a word\n",
    "      4.Exit\n",
    "        \n",
    "  Enter Choice:''')\n",
    "    \n",
    "    try:\n",
    "        n = int(input('Choice: '))\n",
    "        print('')\n",
    "    except ValueError:\n",
    "        print('Error: Please Enter a Integer value')\n",
    "        print('')\n",
    "    \n",
    "    if n==1:\n",
    "        word=input('Enter the word  :')\n",
    "        meaning=input('Enter the meaning for word  :')\n",
    "        file_1=open('words.txt','w')\n",
    "        d[word]=meaning\n",
    "        json.dump(d,file_1)\n",
    "        file_1.close()\n",
    "        print('***-----------------------------***')\n",
    "        print()\n",
    "        continue\n",
    "        \n",
    "    if n==2:\n",
    "        j=input('Enter the Word  :')\n",
    "        file_1=open('words.txt','r')\n",
    "        f1=json.load(file_1)\n",
    "        file_1.close()\n",
    "        for i in f1:\n",
    "            if i==j:\n",
    "                print('Meaning is founded for the word that your searching in the dictionary','\"',j,'\"',':',f1[i])\n",
    "\n",
    "                break\n",
    "        else:\n",
    "            print('Meaning for the word you are searching','\"',j,'\"','is not founded in the dictionary')\n",
    "        \n",
    "        print('***-------------------------------***')\n",
    "        print()\n",
    "        continue\n",
    "        \n",
    "    if n==3:\n",
    "        word=input('Enter the word :')\n",
    "        meaning=input('Enter the meaning to update  :')       \n",
    "        file_1=open('words.txt','r')\n",
    "        f1=json.load(file_1)\n",
    "        file_1.close()\n",
    "        print(d)\n",
    "        for i in d:\n",
    "            if i==word:\n",
    "                d[i]=meaning\n",
    "                print(d)\n",
    "                break\n",
    "                \n",
    "        else:\n",
    "            file_1=open('words.txt','w')\n",
    "            d[word]=meaning\n",
    "            f1=json.dump(d,file_1)     \n",
    "            file_1.close()\n",
    "            print('After udating the meaning for the word you entered',d) \n",
    "        \n",
    "        print('***-------------------------------***')\n",
    "        print()\n",
    "        continue\n",
    "        \n",
    "    if n==4:\n",
    "        print('Exit')\n",
    "        break\n",
    "\n",
    "     "
   ]
  },
  {
   "cell_type": "code",
   "execution_count": null,
   "id": "20004982",
   "metadata": {},
   "outputs": [],
   "source": []
  },
  {
   "cell_type": "code",
   "execution_count": null,
   "id": "07525fcf",
   "metadata": {},
   "outputs": [],
   "source": []
  },
  {
   "cell_type": "code",
   "execution_count": null,
   "id": "8502fe9e",
   "metadata": {},
   "outputs": [],
   "source": []
  },
  {
   "cell_type": "code",
   "execution_count": null,
   "id": "8d627301",
   "metadata": {},
   "outputs": [],
   "source": []
  },
  {
   "cell_type": "code",
   "execution_count": null,
   "id": "7364a9d1",
   "metadata": {},
   "outputs": [],
   "source": []
  },
  {
   "cell_type": "code",
   "execution_count": null,
   "id": "70632e46",
   "metadata": {},
   "outputs": [],
   "source": []
  },
  {
   "cell_type": "code",
   "execution_count": null,
   "id": "db5a7f8d",
   "metadata": {},
   "outputs": [],
   "source": []
  },
  {
   "cell_type": "code",
   "execution_count": null,
   "id": "eaffb612",
   "metadata": {},
   "outputs": [],
   "source": []
  },
  {
   "cell_type": "code",
   "execution_count": null,
   "id": "1311b9a0",
   "metadata": {},
   "outputs": [],
   "source": []
  },
  {
   "cell_type": "code",
   "execution_count": null,
   "id": "b83607af",
   "metadata": {},
   "outputs": [],
   "source": []
  },
  {
   "cell_type": "code",
   "execution_count": null,
   "id": "ba0992de",
   "metadata": {},
   "outputs": [],
   "source": []
  },
  {
   "cell_type": "code",
   "execution_count": null,
   "id": "12e8820a",
   "metadata": {},
   "outputs": [],
   "source": []
  },
  {
   "cell_type": "code",
   "execution_count": null,
   "id": "bdd01727",
   "metadata": {},
   "outputs": [],
   "source": []
  },
  {
   "cell_type": "code",
   "execution_count": null,
   "id": "32169cf8",
   "metadata": {},
   "outputs": [],
   "source": []
  }
 ],
 "metadata": {
  "kernelspec": {
   "display_name": "Python 3 (ipykernel)",
   "language": "python",
   "name": "python3"
  },
  "language_info": {
   "codemirror_mode": {
    "name": "ipython",
    "version": 3
   },
   "file_extension": ".py",
   "mimetype": "text/x-python",
   "name": "python",
   "nbconvert_exporter": "python",
   "pygments_lexer": "ipython3",
   "version": "3.9.7"
  }
 },
 "nbformat": 4,
 "nbformat_minor": 5
}
